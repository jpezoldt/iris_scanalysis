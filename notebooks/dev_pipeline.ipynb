{
  "cells": [
    {
      "cell_type": "markdown",
      "metadata": {},
      "source": [
        "# Development / sanity check notebook\n",
        "\n",
        "This notebook is ONLY for calling scrnax functions on test data.\n",
        "\n",
        "No new analysis logic should live here.\n"
      ]
    }
  ],
  "metadata": {
    "kernelspec": {
      "display_name": "Python 3",
      "language": "python",
      "name": "python3"
    },
    "language_info": {
      "name": "python"
    }
  },
  "nbformat": 4,
  "nbformat_minor": 5
}